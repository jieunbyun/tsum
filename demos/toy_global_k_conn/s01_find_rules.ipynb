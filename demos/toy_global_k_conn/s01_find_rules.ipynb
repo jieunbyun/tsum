{
 "cells": [
  {
   "cell_type": "code",
   "execution_count": 14,
   "id": "8848979d",
   "metadata": {},
   "outputs": [],
   "source": [
    "import sys, pathlib\n",
    "sys.path.insert(0, str(pathlib.Path.cwd().parent.parent))  # add repo root\n",
    "from tsum import tsum\n",
    "import torch\n",
    "import json\n",
    "\n",
    "from ndtools import fun_binary_graph as fbg # ndtools available at github.com/jieunbyun/network-datasets\n",
    "from ndtools.graphs import build_graph\n",
    "from pathlib import Path\n",
    "import networkx as nx   \n"
   ]
  },
  {
   "cell_type": "code",
   "execution_count": 15,
   "id": "5ffcf5d5",
   "metadata": {},
   "outputs": [
    {
     "name": "stdout",
     "output_type": "stream",
     "text": [
      "k = 2 status = s\n"
     ]
    }
   ],
   "source": [
    "DATASET = Path(\"data\") \n",
    "\n",
    "nodes = json.loads((DATASET / \"nodes.json\").read_text(encoding=\"utf-8\"))\n",
    "edges = json.loads((DATASET / \"edges.json\").read_text(encoding=\"utf-8\"))\n",
    "probs_dict = json.loads((DATASET / \"probs.json\").read_text(encoding=\"utf-8\"))\n",
    "\n",
    "# build base graph\n",
    "G_base: nx.Graph = build_graph(nodes, edges, probs_dict)\n",
    "\n",
    "# all edges ON (example); add node/edge 0s as needed\n",
    "states = {eid: 1 for eid in edges.keys()}\n",
    "\n",
    "k_val, status, _ = fbg.eval_global_conn_k(states, G_base, target_k=2)\n",
    "print(\"k =\", k_val, \"status =\", status)"
   ]
  },
  {
   "cell_type": "code",
   "execution_count": 16,
   "id": "4e38a666",
   "metadata": {},
   "outputs": [],
   "source": [
    "s_fun = lambda comps_st: fbg.eval_global_conn_k(comps_st, G_base, target_k=2)\n",
    "row_names = list(edges.keys()) + ['sys']\n",
    "n_state = 2  # binary states: 0, 1\n",
    "\n",
    "device = torch.device('cuda' if torch.cuda.is_available() else 'cpu')\n",
    "probs = [[probs_dict[n]['0']['p'], probs_dict[n]['1']['p']] for n in row_names[:-1]]\n",
    "probs = torch.tensor(probs, dtype=torch.float32, device=device)"
   ]
  },
  {
   "cell_type": "code",
   "execution_count": 19,
   "id": "90aac82e",
   "metadata": {},
   "outputs": [
    {
     "name": "stdout",
     "output_type": "stream",
     "text": [
      "---\n",
      "Round: 1, Unk. prob.: 1.000e+00\n",
      "No. of non-dominant rules: 0, Survival rules: 0, Failure rules: 0\n",
      "Failure sample found from sampling.\n",
      "No. of existing rules removed:  0\n",
      "New rule added. System state: f, System value: 2. Total samples: 1000000.\n",
      "New rule (No. of conditions: 1): {'e03': ('<=', 0), 'sys': ('<=', 0)}\n",
      "Updated sys_vals: [2]\n",
      "---\n",
      "Round: 2, Unk. prob.: 1.000e+00\n",
      "No. of non-dominant rules: 1, Survival rules: 0, Failure rules: 1\n",
      "Failure sample found from sampling.\n",
      "No. of existing rules removed:  0\n",
      "New rule added. System state: f, System value: 2. Total samples: 1000000.\n",
      "New rule (No. of conditions: 1): {'e11': ('<=', 0), 'sys': ('<=', 0)}\n",
      "---\n",
      "Round: 3, Unk. prob.: 7.995e-01\n",
      "No. of non-dominant rules: 2, Survival rules: 0, Failure rules: 2\n",
      "Failure sample found from sampling.\n",
      "No. of existing rules removed:  0\n",
      "New rule added. System state: f, System value: 1. Total samples: 1000000.\n",
      "New rule (No. of conditions: 1): {'e04': ('<=', 0), 'sys': ('<=', 0)}\n",
      "Updated sys_vals: [1, 2]\n",
      "---\n",
      "Round: 4, Unk. prob.: 6.401e-01\n",
      "No. of non-dominant rules: 3, Survival rules: 0, Failure rules: 3\n",
      "Failure sample found from sampling.\n",
      "No. of existing rules removed:  0\n",
      "New rule added. System state: f, System value: 2. Total samples: 1000000.\n",
      "New rule (No. of conditions: 1): {'e02': ('<=', 0), 'sys': ('<=', 0)}\n",
      "---\n",
      "Round: 5, Unk. prob.: 5.120e-01\n",
      "No. of non-dominant rules: 4, Survival rules: 0, Failure rules: 4\n",
      "Failure sample found from sampling.\n",
      "No. of existing rules removed:  0\n",
      "New rule added. System state: f, System value: 2. Total samples: 1000000.\n",
      "New rule (No. of conditions: 1): {'e05': ('<=', 0), 'sys': ('<=', 0)}\n",
      "---\n",
      "Round: 6, Unk. prob.: 4.096e-01\n",
      "No. of non-dominant rules: 5, Survival rules: 0, Failure rules: 5\n",
      "Failure sample found from sampling.\n",
      "No. of existing rules removed:  0\n",
      "New rule added. System state: f, System value: 2. Total samples: 1000000.\n",
      "New rule (No. of conditions: 1): {'e09': ('<=', 0), 'sys': ('<=', 0)}\n",
      "---\n",
      "Round: 7, Unk. prob.: 3.276e-01\n",
      "No. of non-dominant rules: 6, Survival rules: 0, Failure rules: 6\n",
      "Failure sample found from sampling.\n",
      "No. of existing rules removed:  0\n",
      "New rule added. System state: f, System value: 2. Total samples: 1000000.\n",
      "New rule (No. of conditions: 1): {'e07': ('<=', 0), 'sys': ('<=', 0)}\n",
      "---\n",
      "Round: 8, Unk. prob.: 2.624e-01\n",
      "No. of non-dominant rules: 7, Survival rules: 0, Failure rules: 7\n",
      "Survival sample found from sampling.\n",
      "No. of existing rules removed:  0\n",
      "New rule added. System state: s, System value: 2. Total samples: 1000000.\n",
      "New rule (No. of conditions: 8): {'e02': ('>=', 1), 'e03': ('>=', 1), 'e04': ('>=', 1), 'e05': ('>=', 1), 'e07': ('>=', 1), 'e08': ('>=', 1), 'e09': ('>=', 1), 'e11': ('>=', 1), 'sys': ('>=', 1)}\n",
      "---\n",
      "Round: 9, Unk. prob.: 2.099e-01\n",
      "No. of non-dominant rules: 8, Survival rules: 1, Failure rules: 7\n",
      "Failure sample found from sampling.\n",
      "No. of existing rules removed:  0\n",
      "New rule added. System state: f, System value: 2. Total samples: 1000000.\n",
      "New rule (No. of conditions: 1): {'e08': ('<=', 0), 'sys': ('<=', 0)}\n",
      "---\n",
      "Round: 10, Unk. prob.: 4.176e-02\n",
      "No. of non-dominant rules: 9, Survival rules: 1, Failure rules: 8\n",
      "---\n",
      "[Final results] Probs: 'surv':  1.675e-01, 'fail':  8.325e-01, 'unkn':  0.000e+00\n"
     ]
    }
   ],
   "source": [
    "# Two options for rule extraction: tsum.run_rule_extraction or tsum.run_rule_extraction_by_mcs\n",
    "\n",
    "#result = tsum.run_rule_extraction( \n",
    "result = tsum.run_rule_extraction_by_mcs(\n",
    "    # Problem-specific callables / data\n",
    "    sfun=s_fun,\n",
    "    probs=probs,\n",
    "    row_names=row_names,\n",
    "    n_state=n_state,\n",
    "    output_dir=\"tsum_res\",\n",
    "    surv_json_name=\"rules_surv.json\",\n",
    "    fail_json_name=\"rules_fail.json\"\n",
    ") "
   ]
  }
 ],
 "metadata": {
  "kernelspec": {
   "display_name": "pytorch",
   "language": "python",
   "name": "python3"
  },
  "language_info": {
   "codemirror_mode": {
    "name": "ipython",
    "version": 3
   },
   "file_extension": ".py",
   "mimetype": "text/x-python",
   "name": "python",
   "nbconvert_exporter": "python",
   "pygments_lexer": "ipython3",
   "version": "3.12.11"
  }
 },
 "nbformat": 4,
 "nbformat_minor": 5
}
