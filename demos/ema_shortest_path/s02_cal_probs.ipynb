{
 "cells": [
  {
   "cell_type": "code",
   "execution_count": 1,
   "id": "3325b96b",
   "metadata": {},
   "outputs": [],
   "source": [
    "import sys, pathlib\n",
    "sys.path.insert(0, str(pathlib.Path.cwd().parent.parent))  # add repo root\n",
    "from tsum import tsum\n",
    "import torch\n",
    "import json\n",
    "\n",
    "from ndtools import fun_binary_graph as fbg # ndtools available at github.com/jieunbyun/network-datasets\n",
    "from ndtools.graphs import build_graph\n",
    "from pathlib import Path\n",
    "import networkx as nx   "
   ]
  },
  {
   "cell_type": "markdown",
   "id": "8813abd6",
   "metadata": {},
   "source": [
    "# Load data"
   ]
  },
  {
   "cell_type": "code",
   "execution_count": 2,
   "id": "ebf78dd4",
   "metadata": {},
   "outputs": [
    {
     "name": "stdout",
     "output_type": "stream",
     "text": [
      "k = 1 status = f\n"
     ]
    }
   ],
   "source": [
    "DATASET = Path(\"data\") \n",
    "\n",
    "nodes = json.loads((DATASET / \"nodes.json\").read_text(encoding=\"utf-8\"))\n",
    "edges = json.loads((DATASET / \"edges.json\").read_text(encoding=\"utf-8\"))\n",
    "probs_dict = json.loads((DATASET / \"probs_bin.json\").read_text(encoding=\"utf-8\"))\n",
    "\n",
    "# build base graph\n",
    "G_base: nx.Graph = build_graph(nodes, edges, probs_dict)\n",
    "\n",
    "# all edges ON (example); add node/edge 0s as needed\n",
    "states = {eid: 1 for eid in edges.keys()}\n",
    "\n",
    "k_val, status, _ = fbg.eval_global_conn_k(states, G_base, target_k=2)\n",
    "print(\"k =\", k_val, \"status =\", status)"
   ]
  },
  {
   "cell_type": "code",
   "execution_count": 3,
   "id": "30ee8407",
   "metadata": {},
   "outputs": [],
   "source": [
    "row_names = list(edges.keys()) + ['sys']\n",
    "n_state = 2 # binary states\n",
    "\n",
    "device = torch.device(\"cuda\" if torch.cuda.is_available() else \"cpu\")\n",
    "probs = [[probs_dict[n]['0']['p'], probs_dict[n]['1']['p']] for n in row_names[:-1]]\n",
    "probs = torch.tensor(probs, dtype=torch.float32, device=device)"
   ]
  },
  {
   "cell_type": "code",
   "execution_count": 4,
   "id": "fc93042e",
   "metadata": {},
   "outputs": [],
   "source": [
    "def s_fun(comps_st):\n",
    "    travel_time, sys_st, info = fbg.eval_travel_time_to_nearest(comps_st, G_base, origin, dests,\n",
    "                                                         avg_speed=60, # km/h\n",
    "                                                         target_max = 0.5, # hours: it shouldn't take longer than this compared to the original travel time\n",
    "                                                         length_attr = 'length_km')\n",
    "    if sys_st == 's':\n",
    "       path = info['path_filtered_edges'] \n",
    "       min_comps_st = {eid: ('>=', 1) for eid in path} # edges in the path are working\n",
    "       min_comps_st['sys'] = ('>=', 1) # system edge is also working\n",
    "    else:\n",
    "        min_comps_st = None\n",
    "    return travel_time, sys_st, min_comps_st"
   ]
  },
  {
   "cell_type": "code",
   "execution_count": 5,
   "id": "92dfe206",
   "metadata": {},
   "outputs": [],
   "source": [
    "origin = 'n1'\n",
    "dests = ['n22', 'n66']"
   ]
  },
  {
   "cell_type": "code",
   "execution_count": 6,
   "id": "44514e9c",
   "metadata": {},
   "outputs": [
    {
     "name": "stderr",
     "output_type": "stream",
     "text": [
      "C:\\Users\\jb622s\\AppData\\Local\\Temp\\ipykernel_24560\\2870499433.py:3: FutureWarning: You are using `torch.load` with `weights_only=False` (the current default value), which uses the default pickle module implicitly. It is possible to construct malicious pickle data which will execute arbitrary code during unpickling (See https://github.com/pytorch/pytorch/blob/main/SECURITY.md#untrusted-models for more details). In a future release, the default value for `weights_only` will be flipped to `True`. This limits the functions that could be executed during unpickling. Arbitrary objects will no longer be allowed to be loaded via this mode unless they are explicitly allowlisted by the user via `torch.serialization.add_safe_globals`. We recommend you start setting `weights_only=True` for any use case where you don't have full control of the loaded file. Please open an issue on GitHub for any issues related to this experimental feature.\n",
      "  rules_mat_surv = torch.load(TSUMPATH / \"rules_surv.pt\", map_location=\"cpu\")\n",
      "C:\\Users\\jb622s\\AppData\\Local\\Temp\\ipykernel_24560\\2870499433.py:5: FutureWarning: You are using `torch.load` with `weights_only=False` (the current default value), which uses the default pickle module implicitly. It is possible to construct malicious pickle data which will execute arbitrary code during unpickling (See https://github.com/pytorch/pytorch/blob/main/SECURITY.md#untrusted-models for more details). In a future release, the default value for `weights_only` will be flipped to `True`. This limits the functions that could be executed during unpickling. Arbitrary objects will no longer be allowed to be loaded via this mode unless they are explicitly allowlisted by the user via `torch.serialization.add_safe_globals`. We recommend you start setting `weights_only=True` for any use case where you don't have full control of the loaded file. Please open an issue on GitHub for any issues related to this experimental feature.\n",
      "  rules_mat_fail = torch.load(TSUMPATH / \"rules_fail.pt\", map_location=\"cpu\")\n"
     ]
    }
   ],
   "source": [
    "TSUMPATH = Path(\"tsum_res\") \n",
    "\n",
    "rules_mat_surv = torch.load(TSUMPATH / \"rules_surv.pt\", map_location=\"cpu\")\n",
    "rules_mat_surv = rules_mat_surv.to(device)\n",
    "rules_mat_fail = torch.load(TSUMPATH / \"rules_fail.pt\", map_location=\"cpu\")\n",
    "rules_mat_fail = rules_mat_fail.to(device)"
   ]
  },
  {
   "cell_type": "markdown",
   "id": "0da5c125",
   "metadata": {},
   "source": [
    "# Calculate system probabilities"
   ]
  },
  {
   "cell_type": "markdown",
   "id": "f3f68832",
   "metadata": {},
   "source": [
    "## Marginal probability"
   ]
  },
  {
   "cell_type": "code",
   "execution_count": 7,
   "id": "edae7d50",
   "metadata": {},
   "outputs": [
    {
     "name": "stdout",
     "output_type": "stream",
     "text": [
      "P(sys=1) = 9.999e-01\n",
      "P(sys=0 ) = 1.130e-04\n",
      "\n"
     ]
    }
   ],
   "source": [
    "pr_cond = tsum.get_comp_cond_sys_prob(\n",
    "    rules_mat_surv,\n",
    "    rules_mat_fail,\n",
    "    probs,\n",
    "    comps_st_cond = {},\n",
    "    row_names = row_names,\n",
    "    s_fun = s_fun\n",
    ")\n",
    "print(f\"P(sys=1) = {pr_cond['survival']:.3e}\")\n",
    "print(f\"P(sys=0 ) = {pr_cond['failure']:.3e}\\n\")"
   ]
  },
  {
   "cell_type": "markdown",
   "id": "9d8d4e24",
   "metadata": {},
   "source": [
    "## Conditional probability given \"one\" component's survival"
   ]
  },
  {
   "cell_type": "code",
   "execution_count": null,
   "id": "76ff896e",
   "metadata": {},
   "outputs": [
    {
     "name": "stdout",
     "output_type": "stream",
     "text": [
      "Eval P(sys | e0001=1)\n",
      "P(sys=1 | e0001=1) = 9.999e-01\n",
      "P(sys=0 | e0001=1) = 1.060e-04\n",
      "\n",
      "Eval P(sys | e0002=1)\n",
      "P(sys=1 | e0002=1) = 9.999e-01\n",
      "P(sys=0 | e0002=1) = 9.900e-05\n",
      "\n",
      "Eval P(sys | e0003=1)\n",
      "P(sys=1 | e0003=1) = 9.999e-01\n",
      "P(sys=0 | e0003=1) = 1.340e-04\n",
      "\n",
      "Eval P(sys | e0004=1)\n",
      "P(sys=1 | e0004=1) = 9.999e-01\n",
      "P(sys=0 | e0004=1) = 1.130e-04\n",
      "\n",
      "Eval P(sys | e0005=1)\n",
      "P(sys=1 | e0005=1) = 9.999e-01\n",
      "P(sys=0 | e0005=1) = 9.500e-05\n",
      "\n",
      "Eval P(sys | e0006=1)\n",
      "P(sys=1 | e0006=1) = 9.999e-01\n",
      "P(sys=0 | e0006=1) = 1.120e-04\n",
      "\n",
      "Eval P(sys | e0007=1)\n",
      "P(sys=1 | e0007=1) = 9.999e-01\n",
      "P(sys=0 | e0007=1) = 1.090e-04\n",
      "\n",
      "Eval P(sys | e0008=1)\n"
     ]
    }
   ],
   "source": [
    "for x in row_names[:-1]:\n",
    "    print(f\"Eval P(sys | {x}=1)\")\n",
    "    pr_cond = tsum.get_comp_cond_sys_prob(\n",
    "        rules_mat_surv,\n",
    "        rules_mat_fail,\n",
    "        probs,\n",
    "        comps_st_cond = {x: 1},\n",
    "        row_names = row_names,\n",
    "        s_fun = s_fun\n",
    "    )\n",
    "    print(f\"P(sys=1 | {x}=1) = {pr_cond['survival']:.3e}\")\n",
    "    print(f\"P(sys=0 | {x}=1) = {pr_cond['failure']:.3e}\\n\")"
   ]
  }
 ],
 "metadata": {
  "kernelspec": {
   "display_name": "pytorch",
   "language": "python",
   "name": "python3"
  },
  "language_info": {
   "codemirror_mode": {
    "name": "ipython",
    "version": 3
   },
   "file_extension": ".py",
   "mimetype": "text/x-python",
   "name": "python",
   "nbconvert_exporter": "python",
   "pygments_lexer": "ipython3",
   "version": "3.12.11"
  }
 },
 "nbformat": 4,
 "nbformat_minor": 5
}
